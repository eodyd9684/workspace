{
 "cells": [
  {
   "cell_type": "code",
   "execution_count": null,
   "metadata": {},
   "outputs": [
    {
     "name": "stdout",
     "output_type": "stream",
     "text": [
      "2\n"
     ]
    }
   ],
   "source": [
    "#키보드로 정수를 입력받아, 입력받은 정수가 짝수면 '1'을 출력 , 홀수면 '2'를 출력\n",
    "#입력받은 수가 0이면 '0입니다'를 출력하는 코드 작성\n",
    "# int(문자열) -> 문자열을 정수로 반환\n",
    "\n",
    "inputData = int(input('정수를 입력 : '))\n",
    "\n",
    "if inputData % 2 == 0 and inputData != 0 :\n",
    "  print(1)\n",
    "elif inputData % 2 != 0 :\n",
    "  print(2)\n",
    "else :\n",
    "  print('0입니다')\n"
   ]
  },
  {
   "cell_type": "code",
   "execution_count": 14,
   "metadata": {},
   "outputs": [
    {
     "name": "stdout",
     "output_type": "stream",
     "text": [
      "55\n"
     ]
    }
   ],
   "source": [
    "#키보드로 정수를 입력받아, 0부터 입력받은 수 까지의 합을 출력\n",
    "num1 = int(input('정수 입력'))\n",
    "\n",
    "result = 0\n",
    "for e in range(num1 + 1) :\n",
    "  result += e\n",
    "\n",
    "print(result)\n"
   ]
  },
  {
   "cell_type": "code",
   "execution_count": 19,
   "metadata": {},
   "outputs": [
    {
     "name": "stdout",
     "output_type": "stream",
     "text": [
      "3 * 1 = 3\n",
      "3 * 2 = 6\n",
      "3 * 3 = 9\n",
      "3 * 4 = 12\n",
      "3 * 5 = 15\n",
      "3 * 6 = 18\n",
      "3 * 7 = 21\n",
      "3 * 8 = 24\n",
      "3 * 9 = 27\n"
     ]
    }
   ],
   "source": [
    "#키보드로 1~9까지의 정수를 입력받아, 입력받은 숫자의 구구단을 출력.\n",
    "#ex> 2 * 1 = 2\n",
    "#ex> 2 * 2 = 4\n",
    "#...\n",
    "#ex> 2 * 9 = 18\n",
    "num1 = int(input('정수입력'))\n",
    "\n",
    "\n",
    "for e in range(1, 10) :\n",
    "  print(f'{num1} * {e} = {num1 * e}')"
   ]
  },
  {
   "cell_type": "code",
   "execution_count": null,
   "metadata": {},
   "outputs": [],
   "source": []
  },
  {
   "cell_type": "code",
   "execution_count": null,
   "metadata": {},
   "outputs": [],
   "source": []
  },
  {
   "cell_type": "code",
   "execution_count": null,
   "metadata": {},
   "outputs": [],
   "source": []
  },
  {
   "cell_type": "code",
   "execution_count": null,
   "metadata": {},
   "outputs": [],
   "source": []
  },
  {
   "cell_type": "code",
   "execution_count": null,
   "metadata": {},
   "outputs": [],
   "source": []
  },
  {
   "cell_type": "code",
   "execution_count": null,
   "metadata": {},
   "outputs": [],
   "source": []
  },
  {
   "cell_type": "code",
   "execution_count": null,
   "metadata": {},
   "outputs": [],
   "source": []
  },
  {
   "cell_type": "code",
   "execution_count": null,
   "metadata": {},
   "outputs": [],
   "source": []
  },
  {
   "cell_type": "code",
   "execution_count": null,
   "metadata": {},
   "outputs": [],
   "source": []
  },
  {
   "cell_type": "code",
   "execution_count": null,
   "metadata": {},
   "outputs": [],
   "source": []
  }
 ],
 "metadata": {
  "kernelspec": {
   "display_name": "Python 3",
   "language": "python",
   "name": "python3"
  },
  "language_info": {
   "codemirror_mode": {
    "name": "ipython",
    "version": 3
   },
   "file_extension": ".py",
   "mimetype": "text/x-python",
   "name": "python",
   "nbconvert_exporter": "python",
   "pygments_lexer": "ipython3",
   "version": "3.13.2"
  }
 },
 "nbformat": 4,
 "nbformat_minor": 2
}
