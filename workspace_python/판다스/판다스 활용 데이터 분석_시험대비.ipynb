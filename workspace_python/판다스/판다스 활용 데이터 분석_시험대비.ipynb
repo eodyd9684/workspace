{
 "cells": [
  {
   "cell_type": "markdown",
   "id": "3609ab45",
   "metadata": {},
   "source": [
    "### 판다스 활용 데이터 분석"
   ]
  },
  {
   "cell_type": "markdown",
   "id": "ad1f7e5f",
   "metadata": {},
   "source": [
    "1. 키보드로 세 수를 입력받고,입력받은 세 수를 리스트에 저장하시오. 그 후 리스트에 저장된 수 중 가장 큰 수와 가장 작은 수의 차를 출력하시오."
   ]
  },
  {
   "cell_type": "code",
   "execution_count": 10,
   "id": "59446e63",
   "metadata": {},
   "outputs": [
    {
     "name": "stdout",
     "output_type": "stream",
     "text": [
      "[1, 1, 2]\n",
      "1\n"
     ]
    }
   ],
   "source": [
    "#1번 문제 풀이 작성\n",
    "list1 = []\n",
    "for e in range(3) :\n",
    "  num1 = int(input(f'{e + 1}번째 정수입력'))\n",
    "  list1.append(num1)\n",
    "print(list1)\n",
    "\n",
    "maxData = list1[0]\n",
    "minData = list1[0]\n",
    "\n",
    "for e in list1 :\n",
    "  if e > maxData :\n",
    "     maxData = e\n",
    "  if e < minData :\n",
    "    minData = e\n",
    "\n",
    "print(maxData - minData)\n"
   ]
  },
  {
   "cell_type": "markdown",
   "id": "45634a8b",
   "metadata": {},
   "source": [
    "2. 매개변수로 두 개의 리스트를 받아, 두 개의 리스트에 저장된 모든 데이터의 합을 리턴하는 함수를 작성하시오.  \n",
    "EX> 두 매개변수 : [1,2,3] , [4,5,6] / 결과 : 21"
   ]
  },
  {
   "cell_type": "code",
   "execution_count": 5,
   "id": "64188f9f",
   "metadata": {},
   "outputs": [
    {
     "name": "stdout",
     "output_type": "stream",
     "text": [
      "21\n",
      "21\n"
     ]
    }
   ],
   "source": [
    "#2번 문제 풀이 작성\n",
    "list1 = [1,2,3]\n",
    "list2 = [4,5,6]\n",
    "result = 0\n",
    "result2 = 0\n",
    "for e in list1 :\n",
    "  result += e\n",
    "for e in list2 :\n",
    "  result2 += e\n",
    "\n",
    "sum1 = result + result2\n",
    "print(sum1)\n",
    "\n",
    "result = sum(list1) +sum(list2)\n",
    "print(result)"
   ]
  },
  {
   "cell_type": "markdown",
   "id": "2e03b884",
   "metadata": {},
   "source": [
    "3. 매개변수로 두 개의 리스트를 받아, 두 개의 리스트에 중복으로 저장된 데이터만을 갖는  새로운 리스트를 리턴하는 함수를 작성하시오.  \n",
    "EX> 두 매개변수 : [1,3,5,7,9] , [1,2,3,4,5] / 결과 : [1,3,5]"
   ]
  },
  {
   "cell_type": "code",
   "execution_count": 6,
   "id": "06603c1d",
   "metadata": {},
   "outputs": [
    {
     "data": {
      "text/plain": [
       "[1, 3, 5]"
      ]
     },
     "execution_count": 6,
     "metadata": {},
     "output_type": "execute_result"
    }
   ],
   "source": [
    "#3번 문제 풀이 작성\n",
    "list1 = [1,3,5,7,9]\n",
    "list2 = [1,2,3,4,5]\n",
    "arr = []\n",
    "\n",
    "for e in list1 :\n",
    "  for i in list2 :\n",
    "    if e == i :\n",
    "      arr.append(e)\n",
    "arr"
   ]
  },
  {
   "cell_type": "markdown",
   "id": "cfde14e4",
   "metadata": {},
   "source": [
    "4. 이름, 나이, 국어점수, 영어점수, 국어점수를 데이터로 갖는 student 딕셔너리를 만드시오. 각 데이터는 키보드로 입력받아 저장하시오."
   ]
  },
  {
   "cell_type": "code",
   "execution_count": 14,
   "id": "3bec11d1",
   "metadata": {},
   "outputs": [],
   "source": [
    "#4번 문제 풀이 작성\n",
    "student = {\n",
    "  '이름' : '',\n",
    "  '나이' : '',\n",
    "  '영어점수' : '',\n",
    "  '국어점수' : '' \n",
    "}\n",
    "\n",
    "student['이름'] = input('이름 입력')\n",
    "student['나이'] = int(input('나이 입력'))\n",
    "student['영어점수'] = int(input('영어점수 입력'))\n",
    "student['국어점수'] = int(input('국어점수 입력'))"
   ]
  },
  {
   "cell_type": "code",
   "execution_count": 15,
   "id": "92c8bfaa",
   "metadata": {},
   "outputs": [
    {
     "data": {
      "text/plain": [
       "{'이름': '홍길동', '나이': 20, '영어점수': 80, '국어점수': 90}"
      ]
     },
     "execution_count": 15,
     "metadata": {},
     "output_type": "execute_result"
    }
   ],
   "source": [
    "student"
   ]
  },
  {
   "cell_type": "markdown",
   "id": "bfdfd34d",
   "metadata": {},
   "source": [
    "5. 4번 문제에서 만든 딕셔너리 데이터에 총점 데이터를 추가하시오. 총점 데이터는 국어,영어, 수학점수의 합으로 들어가야합니다."
   ]
  },
  {
   "cell_type": "code",
   "execution_count": 16,
   "id": "98179e8a",
   "metadata": {},
   "outputs": [],
   "source": [
    "#5번 문제 풀이 작성\n",
    "student['총점'] = student['국어점수'] + student['영어점수']"
   ]
  },
  {
   "cell_type": "code",
   "execution_count": 17,
   "id": "02bf2919",
   "metadata": {},
   "outputs": [
    {
     "data": {
      "text/plain": [
       "{'이름': '홍길동', '나이': 20, '영어점수': 80, '국어점수': 90, '총점': 170}"
      ]
     },
     "execution_count": 17,
     "metadata": {},
     "output_type": "execute_result"
    }
   ],
   "source": [
    "student"
   ]
  },
  {
   "cell_type": "markdown",
   "id": "ec5ad5ab",
   "metadata": {},
   "source": [
    "6. 아래 딕셔너리 데이터에 stu_grade라는 키를 추가하고, 해당 키의  데이터로  점수(stu_score)에 따른 등급 데이터를 저장하시오.  \n",
    "90 <= 점수      : A등급  \n",
    "80 <= 점수 < 90 : B등급  \n",
    "70 <= 점수 < 80 : C등급  \n",
    "      점수 < 70 : D등급 "
   ]
  },
  {
   "cell_type": "code",
   "execution_count": 20,
   "id": "c53fe493",
   "metadata": {},
   "outputs": [
    {
     "data": {
      "text/plain": [
       "{'stu_no': [1, 2, 3, 4, 5],\n",
       " 'stu_name': ['김자바', '이자바', '박자바', '최자바', '정자바'],\n",
       " 'stu_score': [85, 65, 70, 80, 95],\n",
       " 'stu_grade': ['B등급', 'D등급', 'C등급', 'B등급', 'A등급']}"
      ]
     },
     "execution_count": 20,
     "metadata": {},
     "output_type": "execute_result"
    }
   ],
   "source": [
    "class_room_data = {\n",
    "    'stu_no' : [1, 2, 3, 4, 5],\n",
    "    'stu_name' : ['김자바', '이자바', '박자바', '최자바', '정자바'],\n",
    "    'stu_score' : [85, 65, 70, 80, 95]\n",
    "}\n",
    "\n",
    "#6번 문제 풀이 작성\n",
    "class_room_data['stu_grade'] = []\n",
    "for e in class_room_data['stu_score'] : \n",
    "  if e >= 90 :\n",
    "    class_room_data['stu_grade'].append('A등급')\n",
    "  elif e >= 80 :\n",
    "    class_room_data['stu_grade'].append('B등급')\n",
    "  elif e >= 70 :\n",
    "    class_room_data['stu_grade'].append('C등급')\n",
    "  else :\n",
    "    class_room_data['stu_grade'].append('D등급')\n",
    "\n",
    "class_room_data"
   ]
  }
 ],
 "metadata": {
  "kernelspec": {
   "display_name": "Python 3",
   "language": "python",
   "name": "python3"
  },
  "language_info": {
   "codemirror_mode": {
    "name": "ipython",
    "version": 3
   },
   "file_extension": ".py",
   "mimetype": "text/x-python",
   "name": "python",
   "nbconvert_exporter": "python",
   "pygments_lexer": "ipython3",
   "version": "3.13.2"
  }
 },
 "nbformat": 4,
 "nbformat_minor": 5
}
